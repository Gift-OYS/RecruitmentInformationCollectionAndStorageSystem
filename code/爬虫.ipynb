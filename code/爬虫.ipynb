{
 "cells": [
  {
   "cell_type": "code",
   "execution_count": null,
   "id": "03983d8b",
   "metadata": {},
   "outputs": [],
   "source": [
    "import requests\n",
    "import time\n",
    "import math\n",
    "import pandas as pd\n",
    "def get_json(kind, page=1,):\n",
    "    param = {\n",
    "        'first': 'true',\n",
    "        'pn': page,\n",
    "        'kd': kind\n",
    "    }\n",
    "    header = {\n",
    "        'Referer': 'https://www.lagou.com/jobs/list_java/p-city_0?&cl=false&fromSearch=true&labelWords=&suginput=',\n",
    "        'User-Agent': 'Mozilla/5.0 (Macintosh; Intel Mac OS X 10_12_6) AppleWebKit/537.36 (KHTML, like Gecko) Chrome/69.0.3497.100 Safari/537.36',\n",
    "        'Cookie':'JSESSIONID=ABAAAECABIEACCAF240AB1C98338562456E0E8A34573203; WEBTJ-ID=20210731232906-17afd2ee5a38cc-042506b08b7ee7-2343360-1327104-17afd2ee5a4512; RECOMMEND_TIP=true; user_trace_token=20210731232907-8babeb89-c989-472b-a699-4eadea3a30df; LGUID=20210731232907-24642402-10d3-45d5-8c61-076882a4bc29; privacyPolicyPopup=false; _ga=GA1.2.294752107.1627745347; _gid=GA1.2.1122955464.1627745347; LGSID=20210731232907-c831052d-197e-4f18-a058-a851f4a46d33; Hm_lvt_4233e74dff0ae5bd0a3d81c6ccf756e6=1627745347; sensorsdata2015session=%7B%7D; index_location_city=%E5%85%A8%E5%9B%BD; gate_login_token=8194ad80a2cf54bf9d684fac7e6a244efe31e2e4ef1f9ca42a20d4eda5b6b5d3; LG_LOGIN_USER_ID=cba4b72ec7abf4400485bc10660ff673cbe095d7edf7ce6694a0bb040568846b; LG_HAS_LOGIN=1; _putrc=A28D82059603023A123F89F2B170EADC; login=true; unick=%E6%AC%A7%E9%98%B3%E5%B4%A7; showExpriedIndex=1; showExpriedCompanyHome=1; showExpriedMyPublish=1; hasDeliver=0; __lg_stoken__=7ae39feab7ce1a6fffd8b745369ed047e2e4b82e82dd1a9c8c2b9966a12b1e1f7f1c4fbb5f27d393d1f4a55637500a6ba2d45946e787f62bb3629f754e6a0b76966b555abea5; X_MIDDLE_TOKEN=ace287481d623c25414a77e53df1f2f3; TG-TRACK-CODE=search_code; _gat=1; __SAFETY_CLOSE_TIME__22385765=1; sensorsdata2015jssdkcross=%7B%22distinct_id%22%3A%2222385765%22%2C%22first_id%22%3A%2217afd2ee6a47c0-090f61f78d3266-2343360-1327104-17afd2ee6a5e90%22%2C%22props%22%3A%7B%22%24latest_traffic_source_type%22%3A%22%E7%9B%B4%E6%8E%A5%E6%B5%81%E9%87%8F%22%2C%22%24latest_search_keyword%22%3A%22%E6%9C%AA%E5%8F%96%E5%88%B0%E5%80%BC_%E7%9B%B4%E6%8E%A5%E6%89%93%E5%BC%80%22%2C%22%24latest_referrer%22%3A%22%22%2C%22%24os%22%3A%22Windows%22%2C%22%24browser%22%3A%22Chrome%22%2C%22%24browser_version%22%3A%2292.0.4515.107%22%2C%22lagou_company_id%22%3A%22%22%2C%22%24latest_referrer_host%22%3A%22%22%7D%2C%22%24device_id%22%3A%2217afd2ee6a47c0-090f61f78d3266-2343360-1327104-17afd2ee6a5e90%22%7D; SEARCH_ID=c22eb70160a34b77a13d4e9cae83a446; X_HTTP_TOKEN=a11d29ed50c9f6b232584772619ade679259902fe1; Hm_lpvt_4233e74dff0ae5bd0a3d81c6ccf756e6=1627748524; LGRID=20210801002203-bed83980-2e4a-4111-bba6-9f2f7b75cbe8'\n",
    "    }\n",
    "    proxies = []\n",
    "    url = 'https://www.lagou.com/jobs/positionAjax.json?px=default&city=%E5%8C%97%E4%BA%AC&needAddtionalResult=false'\n",
    "    response = requests.post(url, headers=header, data=param, proxies=proxies)\n",
    "    response.encoding = 'utf-8'\n",
    "    if response.status_code == 200:\n",
    "        response = response.json()\n",
    "        print(response['msg'])\n",
    "        return response['content']['positionResult']\n",
    "    return None\n",
    "if __name__ == '__main__':\n",
    "    kind = 'java'\n",
    "    position_result = get_json(kind=kind)\n",
    "    total = position_result['totalCount']\n",
    "    page_total = math.ceil(total/15)\n",
    "    search_job_result = []\n",
    "    for i in range(1, 600):\n",
    "        position_result = get_json(kind=kind, page= i)\n",
    "        time.sleep(15)\n",
    "        page_job = []\n",
    "        for j in position_result['result']:\n",
    "            job = []\n",
    "            job.append(j['companyFullName'])\n",
    "            job.append(j['companyShortName'])\n",
    "            job.append(j['companySize'])\n",
    "            job.append(j['financeStage'])\n",
    "            job.append(j['district'])\n",
    "            job.append(j['positionName'])\n",
    "            job.append(j['workYear'])\n",
    "            job.append(j['education'])\n",
    "            job.append(j['salary'])\n",
    "            job.append(j['positionAdvantage'])\n",
    "            page_job.append(job)\n",
    "        search_job_result += page_job\n",
    "        time.sleep(15)\n",
    "    df = pd.DataFrame(data=search_job_result,columns=['公司全名', '公司简称', '公司规模', '融资阶段', '区域', '职位名称', '工作经验', '学历要求', '工资', '职位福利'])\n",
    "    df.to_csv('lg.csv', index=False, encoding='utf-8_sig')"
   ]
  }
 ],
 "metadata": {
  "kernelspec": {
   "display_name": "Python 3",
   "language": "python",
   "name": "python3"
  },
  "language_info": {
   "codemirror_mode": {
    "name": "ipython",
    "version": 3
   },
   "file_extension": ".py",
   "mimetype": "text/x-python",
   "name": "python",
   "nbconvert_exporter": "python",
   "pygments_lexer": "ipython3",
   "version": "3.8.8"
  }
 },
 "nbformat": 4,
 "nbformat_minor": 5
}
